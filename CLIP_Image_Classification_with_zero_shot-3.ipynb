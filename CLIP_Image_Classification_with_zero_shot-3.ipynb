{
 "cells": [
  {
   "cell_type": "code",
   "execution_count": null,
   "metadata": {
    "id": "D7jO0CSGjQxQ"
   },
   "outputs": [],
   "source": [
    "from PIL import Image as PIL_Image\n",
    "\n",
    "import numpy as np\n",
    "\n",
    "import torch\n",
    "\n",
    "from transformers import CLIPProcessor, CLIPModel\n",
    "\n",
    "model = CLIPModel.from_pretrained(\"openai/clip-vit-base-patch32\")\n",
    "processor = CLIPProcessor.from_pretrained(\"openai/clip-vit-base-patch32\")\n",
    "\n",
    "from IPython.display import Image, display\n",
    "\n",
    "import requests"
   ]
  },
  {
   "cell_type": "markdown",
   "metadata": {
    "id": "UAParLm5kBGG"
   },
   "source": [
    "Loading the Image"
   ]
  },
  {
   "cell_type": "code",
   "execution_count": null,
   "metadata": {
    "id": "JIVijny6jb3a"
   },
   "outputs": [],
   "source": [
    "url = \"https://images.pexels.com/photos/982021/pexels-photo-982021.jpeg\"\n",
    "\n",
    "image = PIL_Image.open(requests.get(url, stream=True).raw)"
   ]
  },
  {
   "cell_type": "code",
   "execution_count": null,
   "metadata": {
    "colab": {
     "base_uri": "https://localhost:8080/",
     "height": 959
    },
    "id": "KWTFd5w7lZNd",
    "outputId": "72af86db-0d8a-4508-f47f-36b132f6c692"
   },
   "outputs": [],
   "source": [
    "image"
   ]
  },
  {
   "cell_type": "code",
   "execution_count": 85,
   "metadata": {
    "id": "iB25rr7omOqf"
   },
   "outputs": [],
   "source": [
    "labels=['cat', 'dog', 'snake','elephant','plants']"
   ]
  },
  {
   "cell_type": "code",
   "execution_count": 86,
   "metadata": {
    "id": "uwSkLT6clggu"
   },
   "outputs": [],
   "source": [
    "inputs=processor(text=labels, images=image, return_tensors=\"pt\", padding=True)"
   ]
  },
  {
   "cell_type": "code",
   "execution_count": 87,
   "metadata": {
    "id": "jNT0s9Hxmdkt"
   },
   "outputs": [],
   "source": [
    "ids=inputs.input_ids"
   ]
  },
  {
   "cell_type": "code",
   "execution_count": 88,
   "metadata": {
    "colab": {
     "base_uri": "https://localhost:8080/"
    },
    "id": "ighJtEYAm5XH",
    "outputId": "37549144-9ad7-413c-804b-ca440983ea18"
   },
   "outputs": [
    {
     "name": "stdout",
     "output_type": "stream",
     "text": [
      "Attention Mask (shape): torch.Size([5, 3])\n",
      "tensor([[1, 1, 1],\n",
      "        [1, 1, 1],\n",
      "        [1, 1, 1],\n",
      "        [1, 1, 1],\n",
      "        [1, 1, 1]])\n"
     ]
    }
   ],
   "source": [
    "attention_mask = inputs.attention_mask # Mask indicating which tokens are valid (1) vs. padding (0)\n",
    "print(\"Attention Mask (shape):\", attention_mask.shape)\n",
    "print(attention_mask)"
   ]
  },
  {
   "cell_type": "code",
   "execution_count": null,
   "metadata": {
    "colab": {
     "base_uri": "https://localhost:8080/"
    },
    "id": "y8kPciQWm9TR",
    "outputId": "069f2a14-3aab-44c9-e44c-137c36c44f9e"
   },
   "outputs": [],
   "source": [
    "pixel_values = inputs.pixel_values # Processed image pixel values\n",
    "print(\"Pixel Values (shape):\", pixel_values.shape)\n",
    "print(pixel_values)\n"
   ]
  },
  {
   "cell_type": "code",
   "execution_count": 90,
   "metadata": {
    "id": "IHYODa5Rm_6J"
   },
   "outputs": [],
   "source": [
    "with torch.no_grad():\n",
    "    outputs = model(**inputs)\n",
    "    logits_per_image = outputs.logits_per_image # this is the image-text similarity score\n",
    "    probs = logits_per_image.softmax(dim=1) # we can take the softmax to get the label probabilities"
   ]
  },
  {
   "cell_type": "code",
   "execution_count": 91,
   "metadata": {
    "colab": {
     "base_uri": "https://localhost:8080/"
    },
    "id": "z3N9i_JXnFZ2",
    "outputId": "8806443a-be20-49f0-d17c-bf12ae4fa2b6"
   },
   "outputs": [
    {
     "name": "stdout",
     "output_type": "stream",
     "text": [
      "Predicted Label :  elephant\n"
     ]
    }
   ],
   "source": [
    "print(\"Predicted Label : \",labels[probs.argmax()])"
   ]
  },
  {
   "cell_type": "code",
   "execution_count": 92,
   "metadata": {
    "colab": {
     "base_uri": "https://localhost:8080/"
    },
    "id": "ycrX5E7rneR2",
    "outputId": "fbcc191a-11a5-496b-8554-c30fd4e87eda"
   },
   "outputs": [
    {
     "data": {
      "text/plain": [
       "tensor(1.0000)"
      ]
     },
     "execution_count": 92,
     "metadata": {},
     "output_type": "execute_result"
    }
   ],
   "source": [
    "probs[0][probs.argmax()]"
   ]
  },
  {
   "cell_type": "code",
   "execution_count": 93,
   "metadata": {
    "colab": {
     "base_uri": "https://localhost:8080/"
    },
    "id": "3dnM6cAXoZED",
    "outputId": "94b1934a-c379-4ab9-a49b-c0b0555412c7"
   },
   "outputs": [
    {
     "data": {
      "text/plain": [
       "tensor([[3.8128e-07, 4.3471e-06, 2.0065e-05, 9.9996e-01, 1.0443e-05]])"
      ]
     },
     "execution_count": 93,
     "metadata": {},
     "output_type": "execute_result"
    }
   ],
   "source": [
    "probs"
   ]
  },
  {
   "cell_type": "code",
   "execution_count": null,
   "metadata": {
    "id": "h9w35mwTpil7"
   },
   "outputs": [],
   "source": [
    "jupyter nbconvert --clear-output --inplace your_notebook.ipynb"
   ]
  }
 ],
 "metadata": {
  "colab": {
   "provenance": []
  },
  "kernelspec": {
   "display_name": "Python 3 (ipykernel)",
   "language": "python",
   "name": "python3"
  },
  "language_info": {
   "codemirror_mode": {
    "name": "ipython",
    "version": 3
   },
   "file_extension": ".py",
   "mimetype": "text/x-python",
   "name": "python",
   "nbconvert_exporter": "python",
   "pygments_lexer": "ipython3",
   "version": "3.13.2"
  }
 },
 "nbformat": 4,
 "nbformat_minor": 4
}
